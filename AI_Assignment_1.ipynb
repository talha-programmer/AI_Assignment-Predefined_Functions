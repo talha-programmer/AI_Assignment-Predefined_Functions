{
 "cells": [
  {
   "cell_type": "markdown",
   "metadata": {},
   "source": [
    "# AI Assignment 1: Pre-Defined String Functions\n",
    "## Roll Number: 66639\n",
    "## Name: Muhammad Talha"
   ]
  },
  {
   "cell_type": "code",
   "execution_count": 1,
   "metadata": {},
   "outputs": [
    {
     "name": "stdout",
     "output_type": "stream",
     "text": [
      "split: \n",
      "['irfan', 'junaid', 'qasim', 'ahmad']\n",
      "find: 11\n",
      "isalpha: True\n",
      "capitalize: Welcome to my repository!\n",
      "count: 2\n",
      "replace: welcome to our repository!\n",
      "upper: WELCOME TO MY REPOSITORY!\n",
      "lower: welcome to my repository!\n",
      "partition: \n",
      "('welcome to ', 'my', ' repository!')\n",
      "endswith: True\n",
      "isupper: False\n",
      "startswith: True\n",
      "title: Welcome To My Repository!\n",
      "swapcase: WELCOME TO MY REPOSITORY!\n"
     ]
    }
   ],
   "source": [
    "sentence = \"welcome to my repository!\"\n",
    "names = \"irfan,junaid,qasim,ahmad\"\n",
    "\n",
    "print(\"split: \")\n",
    "print(names.split(\",\"))   #Convert string to list separated by \",\"\n",
    "\n",
    "print(\"find: \" + str(sentence.find(\"my\")))  #Returns the location of the sub-string if found, else returns -1\n",
    "\n",
    "print(\"isalpha: \" + str(sentence[11].isalpha())) #Checks if the single character of the string is alphabet or not\n",
    "\n",
    "print(\"capitalize: \" + sentence.capitalize())   #Capitalize the first character of the string\n",
    "\n",
    "print(\"count: \" + str(sentence.count(\"to\")))    #Returns the number of occurences of the substring in a string\n",
    "\n",
    "print(\"replace: \" + sentence.replace(\"my\", \"our\"))   #Replace my with our\n",
    "\n",
    "print(\"upper: \" + sentence.upper())   #Convert whole string to upper case\n",
    "\n",
    "print(\"lower: \" + sentence.lower()) #Convert whole string to lower case\n",
    "\n",
    "print(\"partition: \")\n",
    "print(sentence.partition(\"my\"))     #Separate string to tuple with the substring given\n",
    "\n",
    "print(\"endswith: \" + str(sentence.endswith(\"!\")))    #Returns true if the string ends with the passed string\n",
    "\n",
    "print(\"isupper: \" + str(sentence.isupper()))   #Returns true if the whole string is in upper case\n",
    "\n",
    "print(\"startswith: \" + str(sentence.startswith(\"welcome\")))\n",
    "\n",
    "print(\"title: \" + sentence.title())     #Returns sentence with all words having first character uppercased\n",
    "\n",
    "print(\"swapcase: \"+ sentence.swapcase())  #Swaps the case of the string, i.e changes to uppercase if currently in lowercase and vice versa\n",
    "\n",
    "\n"
   ]
  },
  {
   "cell_type": "code",
   "execution_count": null,
   "metadata": {},
   "outputs": [],
   "source": []
  }
 ],
 "metadata": {
  "kernelspec": {
   "display_name": "Python 3",
   "language": "python",
   "name": "python3"
  },
  "language_info": {
   "codemirror_mode": {
    "name": "ipython",
    "version": 3
   },
   "file_extension": ".py",
   "mimetype": "text/x-python",
   "name": "python",
   "nbconvert_exporter": "python",
   "pygments_lexer": "ipython3",
   "version": "3.7.4"
  }
 },
 "nbformat": 4,
 "nbformat_minor": 2
}
